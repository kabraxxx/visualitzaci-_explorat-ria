{
 "cells": [
  {
   "cell_type": "markdown",
   "id": "e14bc7f7",
   "metadata": {},
   "source": [
    "# S03 T01: Visualització gràfica d'un dataset #"
   ]
  },
  {
   "cell_type": "markdown",
   "id": "220fd49c",
   "metadata": {},
   "source": [
    "Complementa les tècniques d'exploració de les dades mitjantçant la visualització gràfica, amb les llibreries Matplotlib i Searborn."
   ]
  },
  {
   "cell_type": "markdown",
   "id": "283d62fc",
   "metadata": {},
   "source": [
    "## Nivell 1 ##"
   ]
  },
  {
   "cell_type": "markdown",
   "id": "7d074a27",
   "metadata": {},
   "source": [
    "### - Exercici 1 ###"
   ]
  },
  {
   "cell_type": "markdown",
   "id": "9d20035f",
   "metadata": {},
   "source": [
    "Resumeix gràficament el data set DelayedFlights.csv\n",
    "\n",
    "Crea almenys una visualització per:\n",
    "\n",
    "* Una variable categòrica (UniqueCarrier)"
   ]
  },
  {
   "cell_type": "code",
   "execution_count": null,
   "id": "6ff58668",
   "metadata": {
    "scrolled": true
   },
   "outputs": [],
   "source": []
  },
  {
   "cell_type": "markdown",
   "id": "5d2bef7d",
   "metadata": {},
   "source": [
    "* Una variable numèrica (ArrDelay)"
   ]
  },
  {
   "cell_type": "code",
   "execution_count": null,
   "id": "5bb13cb6",
   "metadata": {},
   "outputs": [],
   "source": []
  },
  {
   "cell_type": "markdown",
   "id": "0c1ddb9b",
   "metadata": {},
   "source": [
    "* Una variable numèrica i una categòrica (ArrDelay i UniqueCarrier)"
   ]
  },
  {
   "cell_type": "code",
   "execution_count": null,
   "id": "bb531f17",
   "metadata": {},
   "outputs": [],
   "source": []
  },
  {
   "cell_type": "markdown",
   "id": "4bb3b7d0",
   "metadata": {},
   "source": [
    "* Dues variables numèriques (ArrDelay i DepDelay)"
   ]
  },
  {
   "cell_type": "code",
   "execution_count": null,
   "id": "84a1ce9d",
   "metadata": {},
   "outputs": [],
   "source": []
  },
  {
   "cell_type": "markdown",
   "id": "a023440f",
   "metadata": {},
   "source": [
    "* Tres variables (ArrDelay, DepDelay i UniqueCarrier)"
   ]
  },
  {
   "cell_type": "code",
   "execution_count": null,
   "id": "0b3e1396",
   "metadata": {},
   "outputs": [],
   "source": []
  },
  {
   "cell_type": "markdown",
   "id": "87f0e0bd",
   "metadata": {},
   "source": [
    "* Més de tres variables (ArrDelay, DepDelay, AirTime i UniqueCarrier)."
   ]
  },
  {
   "cell_type": "code",
   "execution_count": null,
   "id": "06a500d0",
   "metadata": {},
   "outputs": [],
   "source": []
  },
  {
   "cell_type": "markdown",
   "id": "c7222af1",
   "metadata": {},
   "source": [
    "### - Exercici 2 ###"
   ]
  },
  {
   "cell_type": "markdown",
   "id": "6259c695",
   "metadata": {},
   "source": [
    "Exporta els gràfics com imatges o com html."
   ]
  },
  {
   "cell_type": "code",
   "execution_count": null,
   "id": "3f244cd8",
   "metadata": {},
   "outputs": [],
   "source": []
  },
  {
   "cell_type": "markdown",
   "id": "98585f0c",
   "metadata": {},
   "source": [
    "### - Exercici 3 ###"
   ]
  },
  {
   "cell_type": "markdown",
   "id": "520e8d9b",
   "metadata": {},
   "source": [
    "Integra les visualitzacions gràfiques, en la tasca 5, del Sprint 2."
   ]
  },
  {
   "cell_type": "code",
   "execution_count": null,
   "id": "5a606b48",
   "metadata": {},
   "outputs": [],
   "source": []
  }
 ],
 "metadata": {
  "kernelspec": {
   "display_name": "Python 3 (ipykernel)",
   "language": "python",
   "name": "python3"
  },
  "language_info": {
   "codemirror_mode": {
    "name": "ipython",
    "version": 3
   },
   "file_extension": ".py",
   "mimetype": "text/x-python",
   "name": "python",
   "nbconvert_exporter": "python",
   "pygments_lexer": "ipython3",
   "version": "3.9.12"
  },
  "latex_envs": {
   "LaTeX_envs_menu_present": true,
   "autoclose": false,
   "autocomplete": true,
   "bibliofile": "biblio.bib",
   "cite_by": "apalike",
   "current_citInitial": 1,
   "eqLabelWithNumbers": true,
   "eqNumInitial": 1,
   "hotkeys": {
    "equation": "Ctrl-E",
    "itemize": "Ctrl-I"
   },
   "labels_anchors": false,
   "latex_user_defs": false,
   "report_style_numbering": false,
   "user_envs_cfg": false
  }
 },
 "nbformat": 4,
 "nbformat_minor": 5
}
